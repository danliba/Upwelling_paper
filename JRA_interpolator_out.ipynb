{
 "cells": [
  {
   "cell_type": "code",
   "execution_count": 1,
   "id": "5edbb593-f6aa-491b-aceb-ccdac1f1d614",
   "metadata": {
    "execution": {
     "iopub.execute_input": "2025-03-10T18:20:03.714068Z",
     "iopub.status.busy": "2025-03-10T18:20:03.713858Z",
     "iopub.status.idle": "2025-03-10T18:20:06.272485Z",
     "shell.execute_reply": "2025-03-10T18:20:06.272052Z"
    },
    "papermill": {
     "duration": 2.56249,
     "end_time": "2025-03-10T18:20:06.273808",
     "exception": false,
     "start_time": "2025-03-10T18:20:03.711318",
     "status": "completed"
    },
    "tags": []
   },
   "outputs": [],
   "source": [
    "import xarray as xr\n",
    "import matplotlib.pyplot as plt\n",
    "from cmocean import cm # for oceanography-specific colormaps\n",
    "from scipy.io import loadmat\n",
    "import numpy as np\n",
    "import re\n",
    "from xml.etree import ElementTree as ET\n",
    "from matplotlib.path import Path\n",
    "import pandas as pd\n",
    "from scipy.interpolate import griddata\n",
    "import matplotlib.pyplot as plt\n",
    "import math\n",
    "import xoak\n",
    "from tqdm import tqdm"
   ]
  },
  {
   "cell_type": "code",
   "execution_count": 2,
   "id": "133b9c3b-8086-4a97-99e9-ae72bc228a22",
   "metadata": {
    "execution": {
     "iopub.execute_input": "2025-03-10T18:20:06.277309Z",
     "iopub.status.busy": "2025-03-10T18:20:06.277012Z",
     "iopub.status.idle": "2025-03-10T18:20:06.286574Z",
     "shell.execute_reply": "2025-03-10T18:20:06.286192Z"
    },
    "papermill": {
     "duration": 0.012229,
     "end_time": "2025-03-10T18:20:06.287544",
     "exception": false,
     "start_time": "2025-03-10T18:20:06.275315",
     "status": "completed"
    },
    "tags": []
   },
   "outputs": [],
   "source": [
    "### to do\n",
    "def interp_JRA(\n",
    "    path1 = None ,\n",
    "    mesh_file = None,\n",
    "    u_file =  None,\n",
    "    v_file = None,\n",
    "):\n",
    "    #mesh\n",
    "    ds = xr.open_dataset(mesh_file, chunks = {'time':1})\n",
    "    #mask\n",
    "    mask=ds.mask_rho.compute()\n",
    "    mask = np.where(mask == 0, np.nan, mask)\n",
    "    #lon and lat\n",
    "    lon=ds.lon_rho.compute()\n",
    "    lat=ds.lat_rho.compute()\n",
    "    lons=(math.floor(lon.min().item())+360,math.floor(lon.max().values.item()+360))\n",
    "    lats=(math.floor(lat.max().item()),math.floor(lat.min().item()))\n",
    "\n",
    "    #import the JRA data\n",
    "    # JRApath='/gxfs_work/geomar/smomw662/NHCS/Winds_input/JRA/'\n",
    "    ds_u = xr.load_dataset(path1+u_file, engine=\"cfgrib\").u10.sel(latitude=slice(*lats), longitude=slice(*lons))\n",
    "    ds_v = xr.load_dataset(path1+v_file, engine=\"cfgrib\").v10.sel(latitude=slice(*lats), longitude=slice(*lons))\n",
    "    \n",
    "    ds_u['longitude']=ds_u.longitude -360\n",
    "    ds_v['longitude']=ds_v.longitude -360\n",
    "\n",
    "    #timestep\n",
    "    tsp = ds_u.time.shape[0]\n",
    "    # Create the target fine grid (lon=602, lat=542)\n",
    "    lon_fine = np.linspace(ds_u.longitude.values.min(), ds_u.longitude.values.max(), 602)\n",
    "    lat_fine = np.linspace(ds_u.latitude.values.min(), ds_u.latitude.values.max(), 542)\n",
    "    lon_grid_fine, lat_grid_fine = np.meshgrid(lon_fine, lat_fine)\n",
    "\n",
    "    # Extract the original coarse grid (lon=40, lat=35)\n",
    "    lon_coarse = ds_u.longitude.values.flatten()\n",
    "    lat_coarse = ds_u.latitude.values.flatten()\n",
    "    lon_grid_coarse, lat_grid_coarse = np.meshgrid(lon_coarse, lat_coarse)\n",
    "    \n",
    "    # Step 3: Initialize an empty array to store the interpolated data\n",
    "    u_interp = np.zeros((tsp, 542, 602))\n",
    "    v_interp = np.zeros((tsp, 542, 602))\n",
    "\n",
    "    # Step 4: Loop over each time step\n",
    "    for t in tqdm(range(tsp)):\n",
    "        # Extract the data for the current time step\n",
    "        u = ds_u.isel(time=t).values  # Assuming the variable is named 'Uwind'\n",
    "        v = ds_v.isel(time=t).values  # Assuming the variable is named 'Uwind'\n",
    "        \n",
    "        # Flatten the coarse grid coordinates and data for interpolation\n",
    "        coords_coarse = np.column_stack((lon_grid_coarse.flatten(), lat_grid_coarse.flatten()))\n",
    "        uflat = u.flatten()\n",
    "        vflat = v.flatten()\n",
    "        \n",
    "        # Flatten the target fine grid coordinates\n",
    "        coords_fine = np.column_stack((lon_grid_fine.flatten(), lat_grid_fine.flatten()))\n",
    "        \n",
    "        # Cubic interpolation of U\n",
    "        data_u = griddata(\n",
    "            coords_coarse,  # Original coordinates (shape: (40*35, 2))\n",
    "            uflat,  # Original data (shape: (40*35,))\n",
    "            coords_fine,  # Target coordinates (shape: (602*542, 2))\n",
    "            method='cubic'  # or 'linear' for faster results\n",
    "        )\n",
    "\n",
    "        # Perform interpolation (linear or cubic)\n",
    "        data_v = griddata(\n",
    "            coords_coarse,  # Original coordinates (shape: (40*35, 2))\n",
    "            vflat,  # Original data (shape: (40*35,))\n",
    "            coords_fine,  # Target coordinates (shape: (602*542, 2))\n",
    "            method='cubic'  # or 'linear' for faster results\n",
    "        )\n",
    "        \n",
    "        # Reshape the interpolated data to the fine grid shape\n",
    "        u_interp[t, :, :] = data_u.reshape((542, 602)) *mask\n",
    "        v_interp[t, :, :] = data_v.reshape((542, 602)) *mask\n",
    "\n",
    "    # U interpolated data\n",
    "    u10 = xr.DataArray(\n",
    "        u_interp,\n",
    "        dims=('time', 'lat', 'lon'),\n",
    "        coords={\n",
    "            'time': ds_u.time.values,\n",
    "            'lat': lat_fine,\n",
    "            'lon': lon_fine\n",
    "        }\n",
    "    )\n",
    "\n",
    "    # V interpolated data\n",
    "    v10 = xr.DataArray(\n",
    "        v_interp,\n",
    "        dims=('time', 'lat', 'lon'),\n",
    "        coords={\n",
    "            'time': ds_u.time.values,\n",
    "            'lat': lat_fine,\n",
    "            'lon': lon_fine\n",
    "        }\n",
    "    )\n",
    "\n",
    "    u10 = u10.rename('u10')\n",
    "    v10 = v10.rename('u10')\n",
    "\n",
    "    return u10, v10"
   ]
  },
  {
   "cell_type": "code",
   "execution_count": 3,
   "id": "ce970f80-8760-4650-9b37-6599c7230083",
   "metadata": {
    "execution": {
     "iopub.execute_input": "2025-03-10T18:20:06.290350Z",
     "iopub.status.busy": "2025-03-10T18:20:06.290188Z"
    },
    "papermill": {
     "duration": null,
     "end_time": null,
     "exception": false,
     "start_time": "2025-03-10T18:20:06.288647",
     "status": "running"
    },
    "tags": []
   },
   "outputs": [
    {
     "name": "stderr",
     "output_type": "stream",
     "text": [
      "\r",
      "  0%|          | 0/1 [00:00<?, ?it/s]"
     ]
    },
    {
     "name": "stderr",
     "output_type": "stream",
     "text": [
      "\n"
     ]
    },
    {
     "name": "stderr",
     "output_type": "stream",
     "text": [
      "\r",
      "  0%|          | 0/1464 [00:00<?, ?it/s]"
     ]
    },
    {
     "name": "stderr",
     "output_type": "stream",
     "text": [
      "\u001b[A"
     ]
    },
    {
     "name": "stderr",
     "output_type": "stream",
     "text": [
      "\n"
     ]
    },
    {
     "name": "stderr",
     "output_type": "stream",
     "text": [
      "\r",
      "  0%|          | 1/1464 [00:00<18:34,  1.31it/s]"
     ]
    },
    {
     "name": "stderr",
     "output_type": "stream",
     "text": [
      "\u001b[A"
     ]
    },
    {
     "name": "stderr",
     "output_type": "stream",
     "text": [
      "\n"
     ]
    },
    {
     "name": "stderr",
     "output_type": "stream",
     "text": [
      "\r",
      "  0%|          | 2/1464 [00:01<18:36,  1.31it/s]"
     ]
    },
    {
     "name": "stderr",
     "output_type": "stream",
     "text": [
      "\u001b[A"
     ]
    },
    {
     "name": "stderr",
     "output_type": "stream",
     "text": [
      "\n"
     ]
    },
    {
     "name": "stderr",
     "output_type": "stream",
     "text": [
      "\r",
      "  0%|          | 3/1464 [00:02<18:34,  1.31it/s]"
     ]
    },
    {
     "name": "stderr",
     "output_type": "stream",
     "text": [
      "\u001b[A"
     ]
    },
    {
     "name": "stderr",
     "output_type": "stream",
     "text": [
      "\n"
     ]
    },
    {
     "name": "stderr",
     "output_type": "stream",
     "text": [
      "\r",
      "  0%|          | 4/1464 [00:03<18:34,  1.31it/s]"
     ]
    },
    {
     "name": "stderr",
     "output_type": "stream",
     "text": [
      "\u001b[A"
     ]
    },
    {
     "name": "stderr",
     "output_type": "stream",
     "text": [
      "\n"
     ]
    },
    {
     "name": "stderr",
     "output_type": "stream",
     "text": [
      "\r",
      "  0%|          | 5/1464 [00:03<18:33,  1.31it/s]"
     ]
    },
    {
     "name": "stderr",
     "output_type": "stream",
     "text": [
      "\u001b[A"
     ]
    },
    {
     "name": "stderr",
     "output_type": "stream",
     "text": [
      "\n"
     ]
    },
    {
     "name": "stderr",
     "output_type": "stream",
     "text": [
      "\r",
      "  0%|          | 6/1464 [00:04<18:32,  1.31it/s]"
     ]
    },
    {
     "name": "stderr",
     "output_type": "stream",
     "text": [
      "\u001b[A"
     ]
    },
    {
     "name": "stderr",
     "output_type": "stream",
     "text": [
      "\n"
     ]
    },
    {
     "name": "stderr",
     "output_type": "stream",
     "text": [
      "\r",
      "  0%|          | 7/1464 [00:05<18:33,  1.31it/s]"
     ]
    },
    {
     "name": "stderr",
     "output_type": "stream",
     "text": [
      "\u001b[A"
     ]
    },
    {
     "name": "stderr",
     "output_type": "stream",
     "text": [
      "\n"
     ]
    },
    {
     "name": "stderr",
     "output_type": "stream",
     "text": [
      "\r",
      "  1%|          | 8/1464 [00:06<18:33,  1.31it/s]"
     ]
    },
    {
     "name": "stderr",
     "output_type": "stream",
     "text": [
      "\u001b[A"
     ]
    },
    {
     "name": "stderr",
     "output_type": "stream",
     "text": [
      "\n"
     ]
    },
    {
     "name": "stderr",
     "output_type": "stream",
     "text": [
      "\r",
      "  1%|          | 9/1464 [00:06<18:31,  1.31it/s]"
     ]
    },
    {
     "name": "stderr",
     "output_type": "stream",
     "text": [
      "\u001b[A"
     ]
    },
    {
     "name": "stderr",
     "output_type": "stream",
     "text": [
      "\n"
     ]
    },
    {
     "name": "stderr",
     "output_type": "stream",
     "text": [
      "\r",
      "  1%|          | 10/1464 [00:07<18:30,  1.31it/s]"
     ]
    },
    {
     "name": "stderr",
     "output_type": "stream",
     "text": [
      "\u001b[A"
     ]
    },
    {
     "name": "stderr",
     "output_type": "stream",
     "text": [
      "\n"
     ]
    },
    {
     "name": "stderr",
     "output_type": "stream",
     "text": [
      "\r",
      "  1%|          | 11/1464 [00:08<18:29,  1.31it/s]"
     ]
    },
    {
     "name": "stderr",
     "output_type": "stream",
     "text": [
      "\u001b[A"
     ]
    },
    {
     "name": "stderr",
     "output_type": "stream",
     "text": [
      "\n"
     ]
    },
    {
     "name": "stderr",
     "output_type": "stream",
     "text": [
      "\r",
      "  1%|          | 12/1464 [00:09<18:28,  1.31it/s]"
     ]
    },
    {
     "name": "stderr",
     "output_type": "stream",
     "text": [
      "\u001b[A"
     ]
    },
    {
     "name": "stderr",
     "output_type": "stream",
     "text": [
      "\n"
     ]
    },
    {
     "name": "stderr",
     "output_type": "stream",
     "text": [
      "\r",
      "  1%|          | 13/1464 [00:09<18:27,  1.31it/s]"
     ]
    },
    {
     "name": "stderr",
     "output_type": "stream",
     "text": [
      "\u001b[A"
     ]
    },
    {
     "name": "stderr",
     "output_type": "stream",
     "text": [
      "\n"
     ]
    },
    {
     "name": "stderr",
     "output_type": "stream",
     "text": [
      "\r",
      "  1%|          | 14/1464 [00:10<18:25,  1.31it/s]"
     ]
    },
    {
     "name": "stderr",
     "output_type": "stream",
     "text": [
      "\u001b[A"
     ]
    },
    {
     "name": "stderr",
     "output_type": "stream",
     "text": [
      "\n"
     ]
    },
    {
     "name": "stderr",
     "output_type": "stream",
     "text": [
      "\r",
      "  1%|          | 15/1464 [00:11<18:25,  1.31it/s]"
     ]
    },
    {
     "name": "stderr",
     "output_type": "stream",
     "text": [
      "\u001b[A"
     ]
    },
    {
     "name": "stderr",
     "output_type": "stream",
     "text": [
      "\n"
     ]
    },
    {
     "name": "stderr",
     "output_type": "stream",
     "text": [
      "\r",
      "  1%|          | 16/1464 [00:12<18:24,  1.31it/s]"
     ]
    },
    {
     "name": "stderr",
     "output_type": "stream",
     "text": [
      "\u001b[A"
     ]
    },
    {
     "name": "stderr",
     "output_type": "stream",
     "text": [
      "\n"
     ]
    },
    {
     "name": "stderr",
     "output_type": "stream",
     "text": [
      "\r",
      "  1%|          | 17/1464 [00:12<18:22,  1.31it/s]"
     ]
    },
    {
     "name": "stderr",
     "output_type": "stream",
     "text": [
      "\u001b[A"
     ]
    },
    {
     "name": "stderr",
     "output_type": "stream",
     "text": [
      "\n"
     ]
    },
    {
     "name": "stderr",
     "output_type": "stream",
     "text": [
      "\r",
      "  1%|          | 18/1464 [00:13<18:21,  1.31it/s]"
     ]
    },
    {
     "name": "stderr",
     "output_type": "stream",
     "text": [
      "\u001b[A"
     ]
    },
    {
     "name": "stderr",
     "output_type": "stream",
     "text": [
      "\n"
     ]
    },
    {
     "name": "stderr",
     "output_type": "stream",
     "text": [
      "\r",
      "  1%|▏         | 19/1464 [00:14<18:22,  1.31it/s]"
     ]
    },
    {
     "name": "stderr",
     "output_type": "stream",
     "text": [
      "\u001b[A"
     ]
    },
    {
     "name": "stderr",
     "output_type": "stream",
     "text": [
      "\n"
     ]
    },
    {
     "name": "stderr",
     "output_type": "stream",
     "text": [
      "\r",
      "  1%|▏         | 20/1464 [00:15<18:20,  1.31it/s]"
     ]
    },
    {
     "name": "stderr",
     "output_type": "stream",
     "text": [
      "\u001b[A"
     ]
    },
    {
     "name": "stderr",
     "output_type": "stream",
     "text": [
      "\n"
     ]
    },
    {
     "name": "stderr",
     "output_type": "stream",
     "text": [
      "\r",
      "  1%|▏         | 21/1464 [00:16<18:19,  1.31it/s]"
     ]
    },
    {
     "name": "stderr",
     "output_type": "stream",
     "text": [
      "\u001b[A"
     ]
    },
    {
     "name": "stderr",
     "output_type": "stream",
     "text": [
      "\n"
     ]
    },
    {
     "name": "stderr",
     "output_type": "stream",
     "text": [
      "\r",
      "  2%|▏         | 22/1464 [00:16<18:18,  1.31it/s]"
     ]
    },
    {
     "name": "stderr",
     "output_type": "stream",
     "text": [
      "\u001b[A"
     ]
    },
    {
     "name": "stderr",
     "output_type": "stream",
     "text": [
      "\n"
     ]
    },
    {
     "name": "stderr",
     "output_type": "stream",
     "text": [
      "\r",
      "  2%|▏         | 23/1464 [00:17<18:18,  1.31it/s]"
     ]
    },
    {
     "name": "stderr",
     "output_type": "stream",
     "text": [
      "\u001b[A"
     ]
    },
    {
     "name": "stderr",
     "output_type": "stream",
     "text": [
      "\n"
     ]
    }
   ],
   "source": [
    "# Define the paths to your FESOM data files\n",
    "path1 = \"/gxfs_work/geomar/smomw662/NHCS/Winds_input/JRA/\"  \n",
    "mesh_file = \"/gxfs_work/geomar/smomw662/NHCS/hincast_1980-2015/croco_avg_Y1980M01.nc\"  # The FESOM mesh file\n",
    "\n",
    "for year in tqdm(range(1980, 1980+1,1)):\n",
    "    \n",
    "    u_file = f\"anl_surf.033_ugrd.reg_tl319.{year}010100_{year}123118\"  # File containing U velocity\n",
    "    v_file = f\"anl_surf.034_vgrd.reg_tl319.{year}010100_{year}123118\"  # File containing V velocity\n",
    "    \n",
    "    u_interp, v_interp =  interp_JRA(path1 = path1,\n",
    "                                                 mesh_file = mesh_file, \n",
    "                                                 u_file = u_file,\n",
    "                                                 v_file = v_file,\n",
    "                                                )\n",
    "    \n",
    "    u_interp.drop_encoding().to_netcdf(f'/gxfs_work/geomar/smomw662/NHCS/Winds_input/JRA_interp/u10.{year}.nc') \n",
    "    v_interp.drop_encoding().to_netcdf(f'/gxfs_work/geomar/smomw662/NHCS/Winds_input/JRA_interp/v10.{year}.nc')"
   ]
  }
 ],
 "metadata": {
  "kernelspec": {
   "display_name": "Python 3 (ipykernel)",
   "language": "python",
   "name": "python3"
  },
  "language_info": {
   "codemirror_mode": {
    "name": "ipython",
    "version": 3
   },
   "file_extension": ".py",
   "mimetype": "text/x-python",
   "name": "python",
   "nbconvert_exporter": "python",
   "pygments_lexer": "ipython3",
   "version": "3.11.10"
  },
  "papermill": {
   "default_parameters": {},
   "duration": null,
   "end_time": null,
   "environment_variables": {},
   "exception": null,
   "input_path": "/gxfs_work/geomar/smomw662/NHCS/notebooks/JRA_interpolator.ipynb",
   "output_path": "/gxfs_work/geomar/smomw662/NHCS/notebooks/JRA_interpolator_out.ipynb",
   "parameters": {},
   "start_time": "2025-03-10T18:20:02.630813",
   "version": "2.6.0"
  }
 },
 "nbformat": 4,
 "nbformat_minor": 5
}