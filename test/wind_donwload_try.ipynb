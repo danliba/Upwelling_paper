{
 "cells": [
  {
   "cell_type": "code",
   "execution_count": 2,
   "id": "a1aaafb5-511c-4d19-9eff-8edc8c13718c",
   "metadata": {},
   "outputs": [],
   "source": [
    "base_url = 'https://data.rda.ucar.edu/d628000/anl_surf/'\n",
    "# Variables to download (ugrd and vgrd in this case)\n",
    "variables = ['033_ugrd', '034_vgrd']\n",
    "\n",
    "# Years to download\n",
    "years = range(1980, 2016)  # 1980 to 2015 inclusive\n",
    "months = range(1,12+1)\n",
    "days = range\n",
    "# Generate the file list\n",
    "filelist = []\n",
    "for year in years:\n",
    "    for var in variables:\n",
    "        filelist.append(f'{base_url}{year}/anl_surf.{var}.reg_tl319.{year}010100_{year}123118')\n"
   ]
  },
  {
   "cell_type": "code",
   "execution_count": 3,
   "id": "d7eb4eea-c2f0-462d-8d0c-4f1607d2b699",
   "metadata": {},
   "outputs": [
    {
     "data": {
      "text/plain": [
       "['https://data.rda.ucar.edu/d628000/anl_surf/1980/anl_surf.033_ugrd.reg_tl319.1980010100_1980123118',\n",
       " 'https://data.rda.ucar.edu/d628000/anl_surf/1980/anl_surf.034_vgrd.reg_tl319.1980010100_1980123118',\n",
       " 'https://data.rda.ucar.edu/d628000/anl_surf/1981/anl_surf.033_ugrd.reg_tl319.1981010100_1981123118',\n",
       " 'https://data.rda.ucar.edu/d628000/anl_surf/1981/anl_surf.034_vgrd.reg_tl319.1981010100_1981123118',\n",
       " 'https://data.rda.ucar.edu/d628000/anl_surf/1982/anl_surf.033_ugrd.reg_tl319.1982010100_1982123118',\n",
       " 'https://data.rda.ucar.edu/d628000/anl_surf/1982/anl_surf.034_vgrd.reg_tl319.1982010100_1982123118',\n",
       " 'https://data.rda.ucar.edu/d628000/anl_surf/1983/anl_surf.033_ugrd.reg_tl319.1983010100_1983123118',\n",
       " 'https://data.rda.ucar.edu/d628000/anl_surf/1983/anl_surf.034_vgrd.reg_tl319.1983010100_1983123118',\n",
       " 'https://data.rda.ucar.edu/d628000/anl_surf/1984/anl_surf.033_ugrd.reg_tl319.1984010100_1984123118',\n",
       " 'https://data.rda.ucar.edu/d628000/anl_surf/1984/anl_surf.034_vgrd.reg_tl319.1984010100_1984123118',\n",
       " 'https://data.rda.ucar.edu/d628000/anl_surf/1985/anl_surf.033_ugrd.reg_tl319.1985010100_1985123118',\n",
       " 'https://data.rda.ucar.edu/d628000/anl_surf/1985/anl_surf.034_vgrd.reg_tl319.1985010100_1985123118',\n",
       " 'https://data.rda.ucar.edu/d628000/anl_surf/1986/anl_surf.033_ugrd.reg_tl319.1986010100_1986123118',\n",
       " 'https://data.rda.ucar.edu/d628000/anl_surf/1986/anl_surf.034_vgrd.reg_tl319.1986010100_1986123118',\n",
       " 'https://data.rda.ucar.edu/d628000/anl_surf/1987/anl_surf.033_ugrd.reg_tl319.1987010100_1987123118',\n",
       " 'https://data.rda.ucar.edu/d628000/anl_surf/1987/anl_surf.034_vgrd.reg_tl319.1987010100_1987123118',\n",
       " 'https://data.rda.ucar.edu/d628000/anl_surf/1988/anl_surf.033_ugrd.reg_tl319.1988010100_1988123118',\n",
       " 'https://data.rda.ucar.edu/d628000/anl_surf/1988/anl_surf.034_vgrd.reg_tl319.1988010100_1988123118',\n",
       " 'https://data.rda.ucar.edu/d628000/anl_surf/1989/anl_surf.033_ugrd.reg_tl319.1989010100_1989123118',\n",
       " 'https://data.rda.ucar.edu/d628000/anl_surf/1989/anl_surf.034_vgrd.reg_tl319.1989010100_1989123118',\n",
       " 'https://data.rda.ucar.edu/d628000/anl_surf/1990/anl_surf.033_ugrd.reg_tl319.1990010100_1990123118',\n",
       " 'https://data.rda.ucar.edu/d628000/anl_surf/1990/anl_surf.034_vgrd.reg_tl319.1990010100_1990123118',\n",
       " 'https://data.rda.ucar.edu/d628000/anl_surf/1991/anl_surf.033_ugrd.reg_tl319.1991010100_1991123118',\n",
       " 'https://data.rda.ucar.edu/d628000/anl_surf/1991/anl_surf.034_vgrd.reg_tl319.1991010100_1991123118',\n",
       " 'https://data.rda.ucar.edu/d628000/anl_surf/1992/anl_surf.033_ugrd.reg_tl319.1992010100_1992123118',\n",
       " 'https://data.rda.ucar.edu/d628000/anl_surf/1992/anl_surf.034_vgrd.reg_tl319.1992010100_1992123118',\n",
       " 'https://data.rda.ucar.edu/d628000/anl_surf/1993/anl_surf.033_ugrd.reg_tl319.1993010100_1993123118',\n",
       " 'https://data.rda.ucar.edu/d628000/anl_surf/1993/anl_surf.034_vgrd.reg_tl319.1993010100_1993123118',\n",
       " 'https://data.rda.ucar.edu/d628000/anl_surf/1994/anl_surf.033_ugrd.reg_tl319.1994010100_1994123118',\n",
       " 'https://data.rda.ucar.edu/d628000/anl_surf/1994/anl_surf.034_vgrd.reg_tl319.1994010100_1994123118',\n",
       " 'https://data.rda.ucar.edu/d628000/anl_surf/1995/anl_surf.033_ugrd.reg_tl319.1995010100_1995123118',\n",
       " 'https://data.rda.ucar.edu/d628000/anl_surf/1995/anl_surf.034_vgrd.reg_tl319.1995010100_1995123118',\n",
       " 'https://data.rda.ucar.edu/d628000/anl_surf/1996/anl_surf.033_ugrd.reg_tl319.1996010100_1996123118',\n",
       " 'https://data.rda.ucar.edu/d628000/anl_surf/1996/anl_surf.034_vgrd.reg_tl319.1996010100_1996123118',\n",
       " 'https://data.rda.ucar.edu/d628000/anl_surf/1997/anl_surf.033_ugrd.reg_tl319.1997010100_1997123118',\n",
       " 'https://data.rda.ucar.edu/d628000/anl_surf/1997/anl_surf.034_vgrd.reg_tl319.1997010100_1997123118',\n",
       " 'https://data.rda.ucar.edu/d628000/anl_surf/1998/anl_surf.033_ugrd.reg_tl319.1998010100_1998123118',\n",
       " 'https://data.rda.ucar.edu/d628000/anl_surf/1998/anl_surf.034_vgrd.reg_tl319.1998010100_1998123118',\n",
       " 'https://data.rda.ucar.edu/d628000/anl_surf/1999/anl_surf.033_ugrd.reg_tl319.1999010100_1999123118',\n",
       " 'https://data.rda.ucar.edu/d628000/anl_surf/1999/anl_surf.034_vgrd.reg_tl319.1999010100_1999123118',\n",
       " 'https://data.rda.ucar.edu/d628000/anl_surf/2000/anl_surf.033_ugrd.reg_tl319.2000010100_2000123118',\n",
       " 'https://data.rda.ucar.edu/d628000/anl_surf/2000/anl_surf.034_vgrd.reg_tl319.2000010100_2000123118',\n",
       " 'https://data.rda.ucar.edu/d628000/anl_surf/2001/anl_surf.033_ugrd.reg_tl319.2001010100_2001123118',\n",
       " 'https://data.rda.ucar.edu/d628000/anl_surf/2001/anl_surf.034_vgrd.reg_tl319.2001010100_2001123118',\n",
       " 'https://data.rda.ucar.edu/d628000/anl_surf/2002/anl_surf.033_ugrd.reg_tl319.2002010100_2002123118',\n",
       " 'https://data.rda.ucar.edu/d628000/anl_surf/2002/anl_surf.034_vgrd.reg_tl319.2002010100_2002123118',\n",
       " 'https://data.rda.ucar.edu/d628000/anl_surf/2003/anl_surf.033_ugrd.reg_tl319.2003010100_2003123118',\n",
       " 'https://data.rda.ucar.edu/d628000/anl_surf/2003/anl_surf.034_vgrd.reg_tl319.2003010100_2003123118',\n",
       " 'https://data.rda.ucar.edu/d628000/anl_surf/2004/anl_surf.033_ugrd.reg_tl319.2004010100_2004123118',\n",
       " 'https://data.rda.ucar.edu/d628000/anl_surf/2004/anl_surf.034_vgrd.reg_tl319.2004010100_2004123118',\n",
       " 'https://data.rda.ucar.edu/d628000/anl_surf/2005/anl_surf.033_ugrd.reg_tl319.2005010100_2005123118',\n",
       " 'https://data.rda.ucar.edu/d628000/anl_surf/2005/anl_surf.034_vgrd.reg_tl319.2005010100_2005123118',\n",
       " 'https://data.rda.ucar.edu/d628000/anl_surf/2006/anl_surf.033_ugrd.reg_tl319.2006010100_2006123118',\n",
       " 'https://data.rda.ucar.edu/d628000/anl_surf/2006/anl_surf.034_vgrd.reg_tl319.2006010100_2006123118',\n",
       " 'https://data.rda.ucar.edu/d628000/anl_surf/2007/anl_surf.033_ugrd.reg_tl319.2007010100_2007123118',\n",
       " 'https://data.rda.ucar.edu/d628000/anl_surf/2007/anl_surf.034_vgrd.reg_tl319.2007010100_2007123118',\n",
       " 'https://data.rda.ucar.edu/d628000/anl_surf/2008/anl_surf.033_ugrd.reg_tl319.2008010100_2008123118',\n",
       " 'https://data.rda.ucar.edu/d628000/anl_surf/2008/anl_surf.034_vgrd.reg_tl319.2008010100_2008123118',\n",
       " 'https://data.rda.ucar.edu/d628000/anl_surf/2009/anl_surf.033_ugrd.reg_tl319.2009010100_2009123118',\n",
       " 'https://data.rda.ucar.edu/d628000/anl_surf/2009/anl_surf.034_vgrd.reg_tl319.2009010100_2009123118',\n",
       " 'https://data.rda.ucar.edu/d628000/anl_surf/2010/anl_surf.033_ugrd.reg_tl319.2010010100_2010123118',\n",
       " 'https://data.rda.ucar.edu/d628000/anl_surf/2010/anl_surf.034_vgrd.reg_tl319.2010010100_2010123118',\n",
       " 'https://data.rda.ucar.edu/d628000/anl_surf/2011/anl_surf.033_ugrd.reg_tl319.2011010100_2011123118',\n",
       " 'https://data.rda.ucar.edu/d628000/anl_surf/2011/anl_surf.034_vgrd.reg_tl319.2011010100_2011123118',\n",
       " 'https://data.rda.ucar.edu/d628000/anl_surf/2012/anl_surf.033_ugrd.reg_tl319.2012010100_2012123118',\n",
       " 'https://data.rda.ucar.edu/d628000/anl_surf/2012/anl_surf.034_vgrd.reg_tl319.2012010100_2012123118',\n",
       " 'https://data.rda.ucar.edu/d628000/anl_surf/2013/anl_surf.033_ugrd.reg_tl319.2013010100_2013123118',\n",
       " 'https://data.rda.ucar.edu/d628000/anl_surf/2013/anl_surf.034_vgrd.reg_tl319.2013010100_2013123118',\n",
       " 'https://data.rda.ucar.edu/d628000/anl_surf/2014/anl_surf.033_ugrd.reg_tl319.2014010100_2014123118',\n",
       " 'https://data.rda.ucar.edu/d628000/anl_surf/2014/anl_surf.034_vgrd.reg_tl319.2014010100_2014123118',\n",
       " 'https://data.rda.ucar.edu/d628000/anl_surf/2015/anl_surf.033_ugrd.reg_tl319.2015010100_2015123118',\n",
       " 'https://data.rda.ucar.edu/d628000/anl_surf/2015/anl_surf.034_vgrd.reg_tl319.2015010100_2015123118']"
      ]
     },
     "execution_count": 3,
     "metadata": {},
     "output_type": "execute_result"
    }
   ],
   "source": [
    "filelist"
   ]
  }
 ],
 "metadata": {
  "kernelspec": {
   "display_name": "Python 3 (ipykernel)",
   "language": "python",
   "name": "python3"
  },
  "language_info": {
   "codemirror_mode": {
    "name": "ipython",
    "version": 3
   },
   "file_extension": ".py",
   "mimetype": "text/x-python",
   "name": "python",
   "nbconvert_exporter": "python",
   "pygments_lexer": "ipython3",
   "version": "3.11.10"
  }
 },
 "nbformat": 4,
 "nbformat_minor": 5
}
